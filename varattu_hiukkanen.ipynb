{
 "cells": [
  {
   "cell_type": "markdown",
   "id": "6b8f67b4-3ba1-499b-a37b-f95928d1ca70",
   "metadata": {},
   "source": [
    "# Varatun hiukkasen liike sähkökentässä\n",
    "\n",
    "Mallinnetaan hiukkasen liikettä sähkökentässä. \n",
    "\n",
    "## Kiihdyttävä sähkökenttä\n",
    "\n",
    "Kun sähkökenttä kiihdyttää varattua hiukkasta, sähkökenttä tekee varattuun hiukkaseen työn. Sähkökentän tekemä työ määritetään\n",
    "$$ W = QU $$\n",
    "Työ muuttaa sähkökentän (potentiaali)energiaa hiukkasen liike-energiaksi. Koska vastusvoimat ovat pieniä, energia säilyy. Näin ollen\n",
    "$$ W = \\Delta E_k $$\n",
    "$$ QU = \\frac{1}{2} mv^2 $$\n",
    "josta voidaan ratkaista hiukkasen nopeus\n",
    "$$ v = \\sqrt{\\frac{2QU}{m}} $$"
   ]
  },
  {
   "cell_type": "code",
   "execution_count": null,
   "id": "9044046d-f37f-4207-94d7-9e74b24f7504",
   "metadata": {},
   "outputs": [],
   "source": [
    "import math\n",
    "\n",
    "Q = 1 # Varauksen itseisarvo alkeisvarauksina\n",
    "U = 120 # Jännite voltteina\n",
    "m = 1.6726E-27 # Protonin massa (kg)\n",
    "# m = 9.109E-31 # Elektronin massa (kg)\n",
    "\n",
    "v = math.sqrt(2 * (Q * 1.6022E-19) * U / m)\n",
    "\n",
    "\n",
    "\n",
    "# Lisää #-merkki rivin eteen, jos et halua että se näkyy ohjelman suorituksessa\n",
    "\n",
    "print(f'Nopeus: {round(v)} m/s') # Tulostus kokonaislukuna\n",
    "# print(f'Nopeus: {v:.3e} m/s') # Tulostus kymmenpotenssimuodossa"
   ]
  },
  {
   "cell_type": "markdown",
   "id": "d987743e-358f-4598-92d7-bb6512193ef8",
   "metadata": {},
   "source": [
    "#### Tehtävä 1\n",
    "\n",
    "Käytä ja muokkaa yllä olevaa koodia ja vastaa seuraaviin kysymyksiin.\n",
    "\n",
    "a) Hiukkasfysiikan tutkimuskeskuksessa CERN:ssä protoneita kiihdytetään nopeuteen, joka vastaa noin 99,999 % valonnopeudesta. Selvitä kokeilemalla kuinka suuri jännite sähkökenttään tarvittaisiin, jotta hiukkasille saataisiin nopeus, joka on yli 90 % valonnopeudesta.\n",
    "\n",
    "b) Kuinka suuri jännite elektronille tarvittaisiin vastaavaan nopeuteen?\n",
    "\n",
    "**Vastauksia**\n",
    "\n",
    "b) Noin $207~kV$\n",
    "\n",
    "*****"
   ]
  },
  {
   "cell_type": "markdown",
   "id": "46b2db95-275e-458c-b75b-bf2db449b133",
   "metadata": {},
   "source": [
    "## Jarruttava sähkökenttä\n",
    "\n",
    "Sähkökentällä voidaan myös jarruttaa hiukkasta. Tutkitaan tilannetta, jossa hiukkanen saapuu sähkökenttään nopeudella $v$. Tällöin hiukkasella on liike-energiaa\n",
    "$$ E_k = \\frac{1}{2} mv^2 $$\n",
    "Jarrutustilanteessa sähköinen voima ja hiukkasen nopeus ovat eri suuntiin. Tällöin sähkökenttä tekee negatiivisen työn. Tällöin sähkökentän tekemä työ on\n",
    "$$ W = -QU $$\n",
    "Sähkökentän tekemä työ muuttaa hiukkasen liike-energiaa, joten\n",
    "$$ \\Delta E_k = W $$\n",
    "$$ E_{kl} - E_{ka} = W $$\n",
    "$$ 0 - \\frac{1}{2} mv^2 = -QU $$\n",
    "$$ \\frac{1}{2}mv^2 = QU $$\n",
    "\n",
    "Toisaalta työ voidaan määrittää voiman $F$ ja vaikutusmatkan $s$ avulla\n",
    "$$ W = Fs $$\n",
    "Sähkökenttä kohdistaa varaukseen voiman\n",
    "$$ F = QE $$\n",
    "joten sähkökentän tekemän työn yhtälö saadaan muotoon\n",
    "$$ \\frac{1}{2}mv^2 = QU = Fs $$\n",
    "$$ \\frac{1}{2}mv^2 = QEs $$\n",
    "\n",
    "Muodostetaan sähkökenttä kahden varatun levyn avulla. Levyjen välille kytketään jännite $U$ ja levyjen välinen etäisyys on $d$. Tällöin sähkökentän voimakkuus\n",
    "$$ E = \\frac{U}{d} $$\n",
    "\n",
    "Nyt voidaan ratkaista hiukkasen kulkema matka $s$ sähkökentän ja hiukkasen nopeuden avulla\n",
    "$$ s = \\frac{mv^2}{2QE} $$"
   ]
  },
  {
   "cell_type": "code",
   "execution_count": null,
   "id": "e89769a9-cbc3-416d-97cf-dcc458a287df",
   "metadata": {},
   "outputs": [],
   "source": [
    "import math\n",
    "\n",
    "Q = 1 # Varauksen itseisarvo alkeisvarauksina\n",
    "U = 20 # Jännite (V)\n",
    "d = 0.25 # Varattujen levyjen välimatka (m)\n",
    "m = 1.6726E-27 # Protonin massa (kg)\n",
    "# m = 9.109E-31 # Elektronin massa (kg)\n",
    "v = 5000 # Hiukkasen nopeus (m/s)\n",
    "\n",
    "E = U/d\n",
    "\n",
    "s = (m * v**2) / (2 * Q*1.6022E-19 * E)\n",
    "\n",
    "print(f'Varauksen kulkema matka: {s} m')"
   ]
  },
  {
   "cell_type": "markdown",
   "id": "de89e232-8e6e-412b-830d-9fb039e35b0d",
   "metadata": {},
   "source": [
    "#### Tehtävä 2\n",
    "\n",
    "a) Selvitä yllä olevaa koodia käyttämällä, ehtiikö nopeudella $ v = 300~km/s $ sähkökenttään tuleva protoni pysähtyä, kun kentän levyjen välimatka on $10~cm$ ja jännite levyjen välillä $120~V$?\n",
    "\n",
    "b) Miten tilanne eroaa, jos samaan kenttään tulee elektroni samalla nopeudella? Mikä selittää eron a-kohtaan?\n",
    "\n",
    "****"
   ]
  },
  {
   "cell_type": "markdown",
   "id": "1eb132fd-b9c7-495b-93d7-e17a50f288d4",
   "metadata": {},
   "source": [
    "## Kiihtyvyyden tutkiminen\n",
    "\n",
    "Koska kyseessä on homogeeninen sähkökenttä, sähköinen voima on aina sama ja varattu hiukkanen on tasaisesti kiihtyvässä (tai hidastuvassa) liikkeessä. Tällöin Newtonin 2. lain mukaan\n",
    "$$ \\Sigma F = ma $$\n",
    "$$ QE = ma $$\n",
    "$$ a = \\frac{QE}{m} $$"
   ]
  },
  {
   "cell_type": "markdown",
   "id": "f67b89a0-1841-46e9-b545-a4f7e2e98c07",
   "metadata": {},
   "source": [
    "#### Tehtävä 3\n",
    "\n",
    "Täydennä alla oleva koodi siten, että voit laskea sen avulla levosta lähtevän protonin kiihtyvyyden, kun levyjen välinen jännite on $150~V$ ja levyjen välimatka on $0,15~m$. Mikä on protonin kiihtyvyys?\n",
    "\n",
    "**Vastaus**\n",
    "\n",
    "Noin $9.58 \\cdot 10^{10}~m/s^2$"
   ]
  },
  {
   "cell_type": "code",
   "execution_count": null,
   "id": "0de29630-1c33-4c03-b02f-8941850edd30",
   "metadata": {},
   "outputs": [],
   "source": [
    "Q = 1 # Varauksen itseisarvo alkeisvarauksina\n",
    "# Muutetaan varaus Coulombeiksi, niin muunnoksesta ei tarvitse enää myöhemmin huolehtia\n",
    "Q = Q * 1.6022E-19 # Nyt Q sisältää Coulombit\n",
    "\n",
    "U = 120 # Jännite (V)\n",
    "d = 0.11 # Varattujen levyjen välimatka (m)\n",
    "m = 1.6726E-27 # Protonin massa (kg)\n",
    "\n",
    "# Laske sähkökentän voimakkuus\n",
    "E =\n",
    "\n",
    "# Laske kiihtyvyys\n",
    "a =\n",
    "\n",
    "# Tulostetaan kiihtyvyys näkyviin\n",
    "print(f'Protonin kiihtyvyys: {a:.2e} m/s^2')"
   ]
  },
  {
   "cell_type": "markdown",
   "id": "4bd9eedb-5081-4188-a363-01ccac2cb402",
   "metadata": {},
   "source": [
    "****"
   ]
  },
  {
   "cell_type": "markdown",
   "id": "b29304e7-8e09-46ae-a684-5307517bfcc3",
   "metadata": {},
   "source": [
    "## Sähkökenttä kohtisuorassa nopeutta vastaan\n",
    "\n",
    "Tutkitaan tilannetta, jossa sähkökentän suunta on ylhäältä alaspäin ja hiukkanen tulee sähkökenttään nopeudella $v$ vasemmalta oikealle. Kenttä ja hiukkasen nopeus ovat siis kohtisuorassa toisiaan vastaan. Jos hiukkasen varaus on positiivinen, sähkökenttä kohdistaa hiukkaseen voiman alaspäin. Jos varaus on negatiivinen, voima suuntautuu ylöspäin.\n",
    "\n",
    "Vaakasuunnassa voima ei siis vaikuta. Näin ollen vaakasuunnassa hiukkanen on tasaisessa liikkeessä, mutta pystysuunnassa tasaisesti kiihtyvässä liikkeessä. Näin ollen alkunopeudet $v_0$ eri suunnissa ovat $v_{0x} = v$ ja $v_{0y} = 0~m/s$. Käytetään hiukkaselle x-suunnassa tasaisen liikkeen mallia ja y-suunnassa tasaisesti kiihtyvän liikkeen mallia.\n",
    "\n",
    "**x-suunta**\n",
    "\n",
    "Hiukkasen nopeus\n",
    "$$ v_x = v_{0x} = v $$\n",
    "Hiukkasen sähkökentässä kulkema matka ajan $t$ kuluttua\n",
    "$$ x = v_x t $$\n",
    "\n",
    "**y-suunta**\n",
    "\n",
    "Hiukkasen nopeus\n",
    "$$ v_y = v_{0y} + at $$\n",
    "Hiukkasen paikka y-suunnassa ajan $t$ kuluttua\n",
    "$$ y = y_0 + v_{0y} t + \\frac{1}{2} at^2 $$\n",
    "Kiihtyvyys saadaan Newtonin 2. lain mukaisesta liikeyhtälöstä\n",
    "$$ F_y = ma $$\n",
    "$$ QE = ma $$\n",
    "$$ a = \\frac{QE}{m} $$\n",
    "\n",
    "**Nopeusvektori**\n",
    "\n",
    "Nopeusvektori kääntyy koko ajan sähkökentän vaikutuksesta. Samalla hiukkasen nopeus kasvaa, koska y-suuntainen nopeus kasvaa. Hiukkasen nopeuden suuruus voidaan määrittää Pythagoraan lauseen avulla\n",
    "$$ v = \\sqrt{v_x^2 + v_y^2} $$\n",
    "Ja nopeuden suunta saadaan trigonometrian avulla\n",
    "$$ \\alpha = \\arctan{\\frac{v_y}{v_x}} $$"
   ]
  },
  {
   "cell_type": "code",
   "execution_count": null,
   "id": "058b9450-a849-4671-8424-bd416aed0baa",
   "metadata": {},
   "outputs": [],
   "source": [
    "import math\n",
    "\n",
    "# Alkuarvot\n",
    "\n",
    "E = 120 # Sähkökentän voimakkuus (V/m)\n",
    "Q = 1 * 1.6022E-19 # Nyt Q sisältää Coulombit (alkeisvarauksia 1)\n",
    "m = 1.6726E-27 # Protonin massa (kg)\n",
    "x0 = 0.0 # Paikka x-suunnassa, 0 tarkoittaa sähkökentän alkua\n",
    "y0 = 0.0 # Paikka y-suunnassa\n",
    "v0x = 130000.0 # Hiukkasen nopeus vaakasuunnassa (m/s)\n",
    "v0y = 0.0 # Hiukkasen nopeus pystysuunnassa (m/s)\n",
    "\n",
    "# Tutkitaan hiukkasen liikettä aikavälillä 0-1,5 µs\n",
    "ajat = [i/10000000 for i in range(0, 16)]\n",
    "\n",
    "x_koordinaatit = []\n",
    "y_koordinaatit = []\n",
    "x_nopeudet = []\n",
    "y_nopeudet = []\n",
    "\n",
    "a = Q*E/m\n",
    "\n",
    "for t in ajat:\n",
    "    vx = v0x\n",
    "    x = x0 + vx*t\n",
    "\n",
    "    vy = v0y + a*t\n",
    "    y = y0 + v0y*t + 1/2*a*t**2\n",
    "    \n",
    "    x_koordinaatit.append(x)\n",
    "    y_koordinaatit.append(y)\n",
    "    x_nopeudet.append(vx)\n",
    "    y_nopeudet.append(vy)\n",
    "\n",
    "print('Laskenta valmis')"
   ]
  },
  {
   "cell_type": "markdown",
   "id": "2e70a00b-71ed-4235-92d6-0c2b1f1d27f3",
   "metadata": {},
   "source": [
    "**Paikan kuvaaja**\n",
    "\n",
    "Voit piirtää paikan kuvaajan alla olevalla koodilla. Varmista, että ylempi solu on suoritettu ensin, jotta data on laskettu oikein."
   ]
  },
  {
   "cell_type": "code",
   "execution_count": null,
   "id": "2ba9e8f5-17f7-4507-87de-36f1cbe2ef70",
   "metadata": {},
   "outputs": [],
   "source": [
    "import matplotlib.pyplot as plt\n",
    "\n",
    "# Piirretään kuvaaja\n",
    "plt.plot(x_koordinaatit, y_koordinaatit, 'x')\n",
    "plt.plot(x_koordinaatit, y_koordinaatit)\n",
    "plt.xlabel('Sijainti vaakasuunnassa (m)')\n",
    "plt.ylabel('Sijainti pystysuunnassa (m)')\n",
    "plt.grid()\n",
    "plt.show()"
   ]
  },
  {
   "cell_type": "markdown",
   "id": "987c6b38-7c62-4de9-b264-c42721d43391",
   "metadata": {},
   "source": [
    "**Nopeuden kuvaaja**\n",
    "\n",
    "Alla olevalla koodilla voit piirtää nopeuden kuvaajan."
   ]
  },
  {
   "cell_type": "code",
   "execution_count": null,
   "id": "0c81686d-95e8-4ab7-a20d-a2f1e14c51aa",
   "metadata": {},
   "outputs": [],
   "source": [
    "import matplotlib.pyplot as plt\n",
    "\n",
    "fig, (ax1, ax2) = plt.subplots(1, 2)\n",
    "fig.subplots_adjust(wspace=0.5)\n",
    "fig.set_figwidth(12)\n",
    "\n",
    "ax1.plot(ajat, x_nopeudet)\n",
    "ax1.set(title='x-suuntainen nopeus', xlabel='Aika (µs)', ylabel='Nopeus (m/s)')\n",
    "\n",
    "ax2.plot(ajat, y_nopeudet)\n",
    "ax2.set(title='y-suuntainen nopeus', xlabel='Aika (µs)', ylabel='Nopeus (m/s)')\n",
    "ax2.grid()\n",
    "\n",
    "plt.show()"
   ]
  },
  {
   "cell_type": "markdown",
   "id": "720fc639-7c5d-4ff8-bffa-b91cde6b752c",
   "metadata": {},
   "source": [
    "**Nopeuden suuruus ja suunta**\n",
    "\n",
    "Alla olevassa koodi-ikkunassa voit määrittää varatun hiukkasen nopeuden suuruuden sekä suunnan."
   ]
  },
  {
   "cell_type": "code",
   "execution_count": null,
   "id": "f378a551-7e5e-458c-8e95-180de7ff4b49",
   "metadata": {},
   "outputs": [],
   "source": [
    "import math\n",
    "\n",
    "vy = \n",
    "vx = \n",
    "\n",
    "# suuruus\n",
    "\n",
    "# Kirjoita koodi, jonka perusteella lasket nopeuden suuruuden.\n",
    "# Neliöjuuri saadaan math-kirjastosta komennolla math.sqrt()\n",
    "# Pythonissa potenssimerkki on kaksi kertomerkkiä eli **\n",
    "\n",
    "v = \n",
    "\n",
    "# suunta\n",
    "kulma = math.atan2(vy, vx)\n",
    "\n",
    "print(f'Nopeus on {round(v)} m/s ja suunta {round(kulma, 4)} astetta vaakatasosta kiihtyvyyden suuntaan.')"
   ]
  },
  {
   "cell_type": "markdown",
   "id": "84bc3199-2a75-4aac-9347-cf78b06ccc7b",
   "metadata": {},
   "source": [
    "#### Tehtävä 4\n",
    "\n",
    "a) Protoni tulee vaakasuuntaisella nopeudella $85 000~m/s$ pystysuuntaiseen sähkökenttään, jonka voimakkuus $E = 300 V/m$. Käytä yllä olevia koodi-ikkunoita (tai joitakin niistä) apuna ja määritä, kuinka paljon protoni liikkuu pystysuunnassa, kun protoni on edennyt vaakasuunnassa 10 cm.\n",
    "\n",
    "b) Määritä samassa tilanteessa protonin nopeus x-suunnassa ja y-suunnassa, kun hiukkanen on liikkunut sähkökentässä $1,0~\\mu s$ ajan.\n",
    "\n",
    "c) Käytä b-kohdan nopeuksien arvoja apuna ja täydennä viimeinen koodi-ikkuna ja laske hiukkasen nopeuden suuruus (eli nopeusvektorin pituus) ja liikesuunta asteina vaakasuuntaan nähden.\n",
    "\n",
    "**Vastauksia**\n",
    "\n",
    "a) $0,02~m$ \n",
    "\n",
    "c) Noin $81800~m/s$ ja $0,3^\\circ$"
   ]
  },
  {
   "cell_type": "code",
   "execution_count": null,
   "id": "dab72b93-a717-4500-a345-c011dd937d62",
   "metadata": {},
   "outputs": [],
   "source": []
  }
 ],
 "metadata": {
  "kernelspec": {
   "display_name": "Python 3 (ipykernel)",
   "language": "python",
   "name": "python3"
  },
  "language_info": {
   "codemirror_mode": {
    "name": "ipython",
    "version": 3
   },
   "file_extension": ".py",
   "mimetype": "text/x-python",
   "name": "python",
   "nbconvert_exporter": "python",
   "pygments_lexer": "ipython3",
   "version": "3.11.5"
  }
 },
 "nbformat": 4,
 "nbformat_minor": 5
}
